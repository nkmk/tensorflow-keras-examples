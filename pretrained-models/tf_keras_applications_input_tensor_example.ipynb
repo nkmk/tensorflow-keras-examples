{
 "cells": [
  {
   "cell_type": "code",
   "execution_count": 1,
   "metadata": {},
   "outputs": [],
   "source": [
    "# Fails in TensorFlow 2.1.0. Please use tf-nightly or the next stable version.\n",
    "# https://github.com/tensorflow/tensorflow/issues/35413"
   ]
  },
  {
   "cell_type": "code",
   "execution_count": 2,
   "metadata": {},
   "outputs": [],
   "source": [
    "import tensorflow as tf\n",
    "import pprint"
   ]
  },
  {
   "cell_type": "code",
   "execution_count": 3,
   "metadata": {},
   "outputs": [
    {
     "name": "stdout",
     "output_type": "stream",
     "text": [
      "2.2.0-dev20200309\n"
     ]
    }
   ],
   "source": [
    "print(tf.__version__)"
   ]
  },
  {
   "cell_type": "code",
   "execution_count": 4,
   "metadata": {},
   "outputs": [],
   "source": [
    "inputs = tf.keras.Input(shape=(None, None, 3))\n",
    "x = tf.keras.layers.Lambda(lambda img: tf.image.resize(img, (224, 224)))(inputs)\n",
    "x = tf.keras.layers.Lambda(tf.keras.applications.vgg16.preprocess_input)(x)"
   ]
  },
  {
   "cell_type": "code",
   "execution_count": 5,
   "metadata": {},
   "outputs": [],
   "source": [
    "model = tf.keras.applications.vgg16.VGG16(input_tensor=x)"
   ]
  },
  {
   "cell_type": "code",
   "execution_count": 6,
   "metadata": {},
   "outputs": [
    {
     "name": "stdout",
     "output_type": "stream",
     "text": [
      "(1, 512, 512, 3)\n"
     ]
    }
   ],
   "source": [
    "img_pil = tf.keras.preprocessing.image.load_img('../data/img/src/baboon.jpg')\n",
    "img = tf.keras.preprocessing.image.img_to_array(img_pil)[tf.newaxis, ...]\n",
    "print(img.shape)"
   ]
  },
  {
   "cell_type": "code",
   "execution_count": 7,
   "metadata": {},
   "outputs": [
    {
     "name": "stdout",
     "output_type": "stream",
     "text": [
      "[[('n02486410', 'baboon', 0.9816024),\n",
      "  ('n02484975', 'guenon', 0.007312194),\n",
      "  ('n02486261', 'patas', 0.0072130407),\n",
      "  ('n02487347', 'macaque', 0.0026990667),\n",
      "  ('n02493509', 'titi', 0.00031297794)]]\n"
     ]
    }
   ],
   "source": [
    "pprint.pprint(tf.keras.applications.vgg16.decode_predictions(model.predict(img), top=5))"
   ]
  },
  {
   "cell_type": "code",
   "execution_count": 8,
   "metadata": {},
   "outputs": [],
   "source": [
    "model_org = tf.keras.applications.vgg16.VGG16()"
   ]
  },
  {
   "cell_type": "code",
   "execution_count": 9,
   "metadata": {},
   "outputs": [
    {
     "name": "stdout",
     "output_type": "stream",
     "text": [
      "(1, 224, 224, 3)\n"
     ]
    }
   ],
   "source": [
    "img2 = tf.image.resize(img, (224, 224))\n",
    "img2 = tf.keras.applications.vgg16.preprocess_input(img2)\n",
    "print(img2.shape)"
   ]
  },
  {
   "cell_type": "code",
   "execution_count": 10,
   "metadata": {},
   "outputs": [
    {
     "name": "stdout",
     "output_type": "stream",
     "text": [
      "[[('n02486410', 'baboon', 0.9816024),\n",
      "  ('n02484975', 'guenon', 0.007312194),\n",
      "  ('n02486261', 'patas', 0.0072130407),\n",
      "  ('n02487347', 'macaque', 0.0026990667),\n",
      "  ('n02493509', 'titi', 0.00031297794)]]\n"
     ]
    }
   ],
   "source": [
    "pprint.pprint(tf.keras.applications.vgg16.decode_predictions(model_org.predict(img2), top=5))"
   ]
  }
 ],
 "metadata": {
  "kernelspec": {
   "display_name": "Python 3",
   "language": "python",
   "name": "python3"
  },
  "language_info": {
   "codemirror_mode": {
    "name": "ipython",
    "version": 3
   },
   "file_extension": ".py",
   "mimetype": "text/x-python",
   "name": "python",
   "nbconvert_exporter": "python",
   "pygments_lexer": "ipython3",
   "version": "3.7.6"
  }
 },
 "nbformat": 4,
 "nbformat_minor": 2
}
