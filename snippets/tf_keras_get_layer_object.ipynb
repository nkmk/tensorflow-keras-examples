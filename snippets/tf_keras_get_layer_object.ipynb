{
 "cells": [
  {
   "cell_type": "code",
   "execution_count": 1,
   "metadata": {},
   "outputs": [],
   "source": [
    "import tensorflow as tf\n",
    "import pprint"
   ]
  },
  {
   "cell_type": "code",
   "execution_count": 2,
   "metadata": {},
   "outputs": [
    {
     "name": "stdout",
     "output_type": "stream",
     "text": [
      "2.1.0\n"
     ]
    }
   ],
   "source": [
    "print(tf.__version__)"
   ]
  },
  {
   "cell_type": "code",
   "execution_count": 3,
   "metadata": {},
   "outputs": [],
   "source": [
    "model = tf.keras.applications.VGG16(weights=None)"
   ]
  },
  {
   "cell_type": "code",
   "execution_count": 4,
   "metadata": {},
   "outputs": [
    {
     "name": "stdout",
     "output_type": "stream",
     "text": [
      "Model: \"vgg16\"\n",
      "_________________________________________________________________\n",
      "Layer (type)                 Output Shape              Param #   \n",
      "=================================================================\n",
      "input_1 (InputLayer)         [(None, 224, 224, 3)]     0         \n",
      "_________________________________________________________________\n",
      "block1_conv1 (Conv2D)        (None, 224, 224, 64)      1792      \n",
      "_________________________________________________________________\n",
      "block1_conv2 (Conv2D)        (None, 224, 224, 64)      36928     \n",
      "_________________________________________________________________\n",
      "block1_pool (MaxPooling2D)   (None, 112, 112, 64)      0         \n",
      "_________________________________________________________________\n",
      "block2_conv1 (Conv2D)        (None, 112, 112, 128)     73856     \n",
      "_________________________________________________________________\n",
      "block2_conv2 (Conv2D)        (None, 112, 112, 128)     147584    \n",
      "_________________________________________________________________\n",
      "block2_pool (MaxPooling2D)   (None, 56, 56, 128)       0         \n",
      "_________________________________________________________________\n",
      "block3_conv1 (Conv2D)        (None, 56, 56, 256)       295168    \n",
      "_________________________________________________________________\n",
      "block3_conv2 (Conv2D)        (None, 56, 56, 256)       590080    \n",
      "_________________________________________________________________\n",
      "block3_conv3 (Conv2D)        (None, 56, 56, 256)       590080    \n",
      "_________________________________________________________________\n",
      "block3_pool (MaxPooling2D)   (None, 28, 28, 256)       0         \n",
      "_________________________________________________________________\n",
      "block4_conv1 (Conv2D)        (None, 28, 28, 512)       1180160   \n",
      "_________________________________________________________________\n",
      "block4_conv2 (Conv2D)        (None, 28, 28, 512)       2359808   \n",
      "_________________________________________________________________\n",
      "block4_conv3 (Conv2D)        (None, 28, 28, 512)       2359808   \n",
      "_________________________________________________________________\n",
      "block4_pool (MaxPooling2D)   (None, 14, 14, 512)       0         \n",
      "_________________________________________________________________\n",
      "block5_conv1 (Conv2D)        (None, 14, 14, 512)       2359808   \n",
      "_________________________________________________________________\n",
      "block5_conv2 (Conv2D)        (None, 14, 14, 512)       2359808   \n",
      "_________________________________________________________________\n",
      "block5_conv3 (Conv2D)        (None, 14, 14, 512)       2359808   \n",
      "_________________________________________________________________\n",
      "block5_pool (MaxPooling2D)   (None, 7, 7, 512)         0         \n",
      "_________________________________________________________________\n",
      "flatten (Flatten)            (None, 25088)             0         \n",
      "_________________________________________________________________\n",
      "fc1 (Dense)                  (None, 4096)              102764544 \n",
      "_________________________________________________________________\n",
      "fc2 (Dense)                  (None, 4096)              16781312  \n",
      "_________________________________________________________________\n",
      "predictions (Dense)          (None, 1000)              4097000   \n",
      "=================================================================\n",
      "Total params: 138,357,544\n",
      "Trainable params: 138,357,544\n",
      "Non-trainable params: 0\n",
      "_________________________________________________________________\n"
     ]
    }
   ],
   "source": [
    "model.summary()"
   ]
  },
  {
   "cell_type": "code",
   "execution_count": 5,
   "metadata": {},
   "outputs": [
    {
     "name": "stdout",
     "output_type": "stream",
     "text": [
      "<tensorflow.python.keras.layers.convolutional.Conv2D object at 0x13d288090>\n"
     ]
    }
   ],
   "source": [
    "l_block4_conv1 = model.get_layer('block4_conv1')\n",
    "print(l_block4_conv1)"
   ]
  },
  {
   "cell_type": "code",
   "execution_count": 6,
   "metadata": {},
   "outputs": [
    {
     "name": "stdout",
     "output_type": "stream",
     "text": [
      "<class 'tensorflow.python.keras.layers.convolutional.Conv2D'>\n"
     ]
    }
   ],
   "source": [
    "print(type(l_block4_conv1))"
   ]
  },
  {
   "cell_type": "code",
   "execution_count": 7,
   "metadata": {},
   "outputs": [],
   "source": [
    "# print(model.get_layer('xxx'))\n",
    "# ValueError: No such layer: xxx"
   ]
  },
  {
   "cell_type": "code",
   "execution_count": 8,
   "metadata": {},
   "outputs": [
    {
     "name": "stdout",
     "output_type": "stream",
     "text": [
      "<tensorflow.python.keras.layers.convolutional.Conv2D object at 0x13d288090>\n"
     ]
    }
   ],
   "source": [
    "l_11 = model.get_layer(index=11)\n",
    "print(l_11)"
   ]
  },
  {
   "cell_type": "code",
   "execution_count": 9,
   "metadata": {},
   "outputs": [
    {
     "name": "stdout",
     "output_type": "stream",
     "text": [
      "<class 'tensorflow.python.keras.layers.convolutional.Conv2D'>\n"
     ]
    }
   ],
   "source": [
    "print(type(l_11))"
   ]
  },
  {
   "cell_type": "code",
   "execution_count": 10,
   "metadata": {},
   "outputs": [
    {
     "name": "stdout",
     "output_type": "stream",
     "text": [
      "True\n"
     ]
    }
   ],
   "source": [
    "print(l_block4_conv1 is l_11)"
   ]
  },
  {
   "cell_type": "code",
   "execution_count": 11,
   "metadata": {},
   "outputs": [
    {
     "name": "stdout",
     "output_type": "stream",
     "text": [
      "predictions\n"
     ]
    }
   ],
   "source": [
    "print(model.get_layer(index=-1).name)"
   ]
  },
  {
   "cell_type": "code",
   "execution_count": 12,
   "metadata": {},
   "outputs": [
    {
     "name": "stdout",
     "output_type": "stream",
     "text": [
      "fc1\n"
     ]
    }
   ],
   "source": [
    "print(model.get_layer(index=-3).name)"
   ]
  },
  {
   "cell_type": "code",
   "execution_count": 13,
   "metadata": {},
   "outputs": [],
   "source": [
    "# print(model.get_layer(index=100))\n",
    "# ValueError: Was asked to retrieve layer at index 100 but model only has 23 layers."
   ]
  },
  {
   "cell_type": "code",
   "execution_count": 14,
   "metadata": {},
   "outputs": [
    {
     "name": "stdout",
     "output_type": "stream",
     "text": [
      "[<tensorflow.python.keras.engine.input_layer.InputLayer object at 0x13d02a6d0>,\n",
      " <tensorflow.python.keras.layers.convolutional.Conv2D object at 0x1108bc0d0>,\n",
      " <tensorflow.python.keras.layers.convolutional.Conv2D object at 0x13cff8c50>,\n",
      " <tensorflow.python.keras.layers.pooling.MaxPooling2D object at 0x135eb4cd0>,\n",
      " <tensorflow.python.keras.layers.convolutional.Conv2D object at 0x135ea4c50>,\n",
      " <tensorflow.python.keras.layers.convolutional.Conv2D object at 0x135e99c10>,\n",
      " <tensorflow.python.keras.layers.pooling.MaxPooling2D object at 0x13d19ac90>,\n",
      " <tensorflow.python.keras.layers.convolutional.Conv2D object at 0x13d26c290>,\n",
      " <tensorflow.python.keras.layers.convolutional.Conv2D object at 0x13d270b90>,\n",
      " <tensorflow.python.keras.layers.convolutional.Conv2D object at 0x13d276fd0>,\n",
      " <tensorflow.python.keras.layers.pooling.MaxPooling2D object at 0x13d279e10>,\n",
      " <tensorflow.python.keras.layers.convolutional.Conv2D object at 0x13d288090>,\n",
      " <tensorflow.python.keras.layers.convolutional.Conv2D object at 0x13d28bd10>,\n",
      " <tensorflow.python.keras.layers.convolutional.Conv2D object at 0x13ddcfc90>,\n",
      " <tensorflow.python.keras.layers.pooling.MaxPooling2D object at 0x13ddd6fd0>,\n",
      " <tensorflow.python.keras.layers.convolutional.Conv2D object at 0x13dddbed0>,\n",
      " <tensorflow.python.keras.layers.convolutional.Conv2D object at 0x13dde7e10>,\n",
      " <tensorflow.python.keras.layers.convolutional.Conv2D object at 0x13ddecd90>,\n",
      " <tensorflow.python.keras.layers.pooling.MaxPooling2D object at 0x13ddf3e10>,\n",
      " <tensorflow.python.keras.layers.core.Flatten object at 0x13ddf5c90>,\n",
      " <tensorflow.python.keras.layers.core.Dense object at 0x13ddf5d10>,\n",
      " <tensorflow.python.keras.layers.core.Dense object at 0x13de03910>,\n",
      " <tensorflow.python.keras.layers.core.Dense object at 0x13de09210>]\n"
     ]
    }
   ],
   "source": [
    "pprint.pprint(model.layers)"
   ]
  },
  {
   "cell_type": "code",
   "execution_count": 15,
   "metadata": {},
   "outputs": [
    {
     "name": "stdout",
     "output_type": "stream",
     "text": [
      "<class 'list'>\n"
     ]
    }
   ],
   "source": [
    "print(type(model.layers))"
   ]
  },
  {
   "cell_type": "code",
   "execution_count": 16,
   "metadata": {},
   "outputs": [
    {
     "name": "stdout",
     "output_type": "stream",
     "text": [
      "<tensorflow.python.keras.layers.convolutional.Conv2D object at 0x13d288090>\n"
     ]
    }
   ],
   "source": [
    "print(model.layers[11])"
   ]
  },
  {
   "cell_type": "code",
   "execution_count": 17,
   "metadata": {},
   "outputs": [
    {
     "name": "stdout",
     "output_type": "stream",
     "text": [
      "True\n"
     ]
    }
   ],
   "source": [
    "print(model.layers[11] is l_11)"
   ]
  },
  {
   "cell_type": "code",
   "execution_count": 18,
   "metadata": {},
   "outputs": [
    {
     "name": "stdout",
     "output_type": "stream",
     "text": [
      "predictions\n"
     ]
    }
   ],
   "source": [
    "print(model.layers[-1].name)"
   ]
  },
  {
   "cell_type": "code",
   "execution_count": 19,
   "metadata": {},
   "outputs": [
    {
     "name": "stdout",
     "output_type": "stream",
     "text": [
      "fc1\n"
     ]
    }
   ],
   "source": [
    "print(model.layers[-3].name)"
   ]
  },
  {
   "cell_type": "code",
   "execution_count": 20,
   "metadata": {},
   "outputs": [],
   "source": [
    "# print(model.layers[100])\n",
    "# IndexError: list index out of range"
   ]
  },
  {
   "cell_type": "code",
   "execution_count": 21,
   "metadata": {},
   "outputs": [
    {
     "name": "stdout",
     "output_type": "stream",
     "text": [
      "<tensorflow.python.keras.layers.convolutional.Conv2D object at 0x1108bc0d0>\n"
     ]
    }
   ],
   "source": [
    "l_1 = model.get_layer(index=1)\n",
    "print(l_1)"
   ]
  },
  {
   "cell_type": "code",
   "execution_count": 22,
   "metadata": {},
   "outputs": [
    {
     "name": "stdout",
     "output_type": "stream",
     "text": [
      "True\n"
     ]
    }
   ],
   "source": [
    "print(isinstance(l_1, tf.keras.layers.Layer))"
   ]
  },
  {
   "cell_type": "code",
   "execution_count": 23,
   "metadata": {},
   "outputs": [
    {
     "name": "stdout",
     "output_type": "stream",
     "text": [
      "block1_conv1\n"
     ]
    }
   ],
   "source": [
    "print(l_1.name)"
   ]
  },
  {
   "cell_type": "code",
   "execution_count": 24,
   "metadata": {},
   "outputs": [
    {
     "name": "stdout",
     "output_type": "stream",
     "text": [
      "1792\n"
     ]
    }
   ],
   "source": [
    "print(l_1.count_params())"
   ]
  },
  {
   "cell_type": "code",
   "execution_count": 25,
   "metadata": {},
   "outputs": [
    {
     "name": "stdout",
     "output_type": "stream",
     "text": [
      "True\n"
     ]
    }
   ],
   "source": [
    "print(l_1.trainable)"
   ]
  },
  {
   "cell_type": "code",
   "execution_count": 26,
   "metadata": {},
   "outputs": [
    {
     "name": "stdout",
     "output_type": "stream",
     "text": [
      "False\n"
     ]
    }
   ],
   "source": [
    "l_1.trainable = False\n",
    "print(l_1.trainable)"
   ]
  },
  {
   "cell_type": "code",
   "execution_count": 27,
   "metadata": {},
   "outputs": [],
   "source": [
    "# l_1.name = 'new_name'\n",
    "# AttributeError: Can't set the attribute \"name\", likely because it conflicts with an existing read-only @property of the object. Please choose a different name."
   ]
  },
  {
   "cell_type": "code",
   "execution_count": 28,
   "metadata": {},
   "outputs": [
    {
     "name": "stdout",
     "output_type": "stream",
     "text": [
      "new_name\n"
     ]
    }
   ],
   "source": [
    "l_1._name = 'new_name'\n",
    "print(l_1.name)"
   ]
  },
  {
   "cell_type": "code",
   "execution_count": 29,
   "metadata": {},
   "outputs": [
    {
     "name": "stdout",
     "output_type": "stream",
     "text": [
      "[<tensorflow.python.keras.layers.pooling.MaxPooling2D object at 0x135eb4cd0>,\n",
      " <tensorflow.python.keras.layers.pooling.MaxPooling2D object at 0x13d19ac90>,\n",
      " <tensorflow.python.keras.layers.pooling.MaxPooling2D object at 0x13d279e10>,\n",
      " <tensorflow.python.keras.layers.pooling.MaxPooling2D object at 0x13ddd6fd0>,\n",
      " <tensorflow.python.keras.layers.pooling.MaxPooling2D object at 0x13ddf3e10>]\n"
     ]
    }
   ],
   "source": [
    "l_pool = [l for l in model.layers if 'pool' in l.name]\n",
    "pprint.pprint(l_pool)"
   ]
  },
  {
   "cell_type": "code",
   "execution_count": 30,
   "metadata": {},
   "outputs": [
    {
     "name": "stdout",
     "output_type": "stream",
     "text": [
      "[<tensorflow.python.keras.layers.pooling.MaxPooling2D object at 0x135eb4cd0>,\n",
      " <tensorflow.python.keras.layers.pooling.MaxPooling2D object at 0x13d19ac90>,\n",
      " <tensorflow.python.keras.layers.pooling.MaxPooling2D object at 0x13d279e10>,\n",
      " <tensorflow.python.keras.layers.pooling.MaxPooling2D object at 0x13ddd6fd0>,\n",
      " <tensorflow.python.keras.layers.pooling.MaxPooling2D object at 0x13ddf3e10>]\n"
     ]
    }
   ],
   "source": [
    "l_pool = [l for l in model.layers if isinstance(l, tf.keras.layers.MaxPooling2D)]\n",
    "pprint.pprint(l_pool)"
   ]
  },
  {
   "cell_type": "code",
   "execution_count": 31,
   "metadata": {},
   "outputs": [
    {
     "name": "stdout",
     "output_type": "stream",
     "text": [
      "[<tensorflow.python.keras.layers.pooling.MaxPooling2D object at 0x135eb4cd0>,\n",
      " <tensorflow.python.keras.layers.pooling.MaxPooling2D object at 0x13d19ac90>,\n",
      " <tensorflow.python.keras.layers.pooling.MaxPooling2D object at 0x13d279e10>,\n",
      " <tensorflow.python.keras.layers.pooling.MaxPooling2D object at 0x13ddd6fd0>,\n",
      " <tensorflow.python.keras.layers.pooling.MaxPooling2D object at 0x13ddf3e10>,\n",
      " <tensorflow.python.keras.layers.core.Dense object at 0x13ddf5d10>,\n",
      " <tensorflow.python.keras.layers.core.Dense object at 0x13de03910>,\n",
      " <tensorflow.python.keras.layers.core.Dense object at 0x13de09210>]\n"
     ]
    }
   ],
   "source": [
    "l_pool_dense = [l for l in model.layers\n",
    "                if isinstance(l, (tf.keras.layers.MaxPooling2D, tf.keras.layers.Dense))]\n",
    "pprint.pprint(l_pool_dense)"
   ]
  },
  {
   "cell_type": "code",
   "execution_count": 32,
   "metadata": {},
   "outputs": [
    {
     "name": "stdout",
     "output_type": "stream",
     "text": [
      "[<tensorflow.python.keras.layers.pooling.MaxPooling2D object at 0x13ddf3e10>,\n",
      " <tensorflow.python.keras.layers.core.Flatten object at 0x13ddf5c90>,\n",
      " <tensorflow.python.keras.layers.core.Dense object at 0x13ddf5d10>,\n",
      " <tensorflow.python.keras.layers.core.Dense object at 0x13de03910>,\n",
      " <tensorflow.python.keras.layers.core.Dense object at 0x13de09210>]\n"
     ]
    }
   ],
   "source": [
    "l_tail = model.layers[-5:]\n",
    "pprint.pprint(l_tail)"
   ]
  },
  {
   "cell_type": "code",
   "execution_count": 33,
   "metadata": {},
   "outputs": [],
   "source": [
    "for l in model.layers:\n",
    "    if isinstance(l, tf.keras.layers.Dense):\n",
    "        l.trainable = False"
   ]
  },
  {
   "cell_type": "code",
   "execution_count": 34,
   "metadata": {},
   "outputs": [],
   "source": [
    "for l in model.layers[-5:]:\n",
    "    l.trainable = False"
   ]
  }
 ],
 "metadata": {
  "kernelspec": {
   "display_name": "Python 3",
   "language": "python",
   "name": "python3"
  },
  "language_info": {
   "codemirror_mode": {
    "name": "ipython",
    "version": 3
   },
   "file_extension": ".py",
   "mimetype": "text/x-python",
   "name": "python",
   "nbconvert_exporter": "python",
   "pygments_lexer": "ipython3",
   "version": "3.7.6"
  }
 },
 "nbformat": 4,
 "nbformat_minor": 2
}
