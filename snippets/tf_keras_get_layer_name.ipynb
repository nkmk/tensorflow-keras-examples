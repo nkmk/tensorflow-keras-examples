{
 "cells": [
  {
   "cell_type": "code",
   "execution_count": 1,
   "metadata": {},
   "outputs": [],
   "source": [
    "import tensorflow as tf\n",
    "import pprint"
   ]
  },
  {
   "cell_type": "code",
   "execution_count": 2,
   "metadata": {},
   "outputs": [
    {
     "name": "stdout",
     "output_type": "stream",
     "text": [
      "2.1.0\n"
     ]
    }
   ],
   "source": [
    "print(tf.__version__)"
   ]
  },
  {
   "cell_type": "code",
   "execution_count": 3,
   "metadata": {},
   "outputs": [],
   "source": [
    "model = tf.keras.applications.VGG16(weights=None)"
   ]
  },
  {
   "cell_type": "code",
   "execution_count": 4,
   "metadata": {},
   "outputs": [
    {
     "name": "stdout",
     "output_type": "stream",
     "text": [
      "Model: \"vgg16\"\n",
      "_________________________________________________________________\n",
      "Layer (type)                 Output Shape              Param #   \n",
      "=================================================================\n",
      "input_1 (InputLayer)         [(None, 224, 224, 3)]     0         \n",
      "_________________________________________________________________\n",
      "block1_conv1 (Conv2D)        (None, 224, 224, 64)      1792      \n",
      "_________________________________________________________________\n",
      "block1_conv2 (Conv2D)        (None, 224, 224, 64)      36928     \n",
      "_________________________________________________________________\n",
      "block1_pool (MaxPooling2D)   (None, 112, 112, 64)      0         \n",
      "_________________________________________________________________\n",
      "block2_conv1 (Conv2D)        (None, 112, 112, 128)     73856     \n",
      "_________________________________________________________________\n",
      "block2_conv2 (Conv2D)        (None, 112, 112, 128)     147584    \n",
      "_________________________________________________________________\n",
      "block2_pool (MaxPooling2D)   (None, 56, 56, 128)       0         \n",
      "_________________________________________________________________\n",
      "block3_conv1 (Conv2D)        (None, 56, 56, 256)       295168    \n",
      "_________________________________________________________________\n",
      "block3_conv2 (Conv2D)        (None, 56, 56, 256)       590080    \n",
      "_________________________________________________________________\n",
      "block3_conv3 (Conv2D)        (None, 56, 56, 256)       590080    \n",
      "_________________________________________________________________\n",
      "block3_pool (MaxPooling2D)   (None, 28, 28, 256)       0         \n",
      "_________________________________________________________________\n",
      "block4_conv1 (Conv2D)        (None, 28, 28, 512)       1180160   \n",
      "_________________________________________________________________\n",
      "block4_conv2 (Conv2D)        (None, 28, 28, 512)       2359808   \n",
      "_________________________________________________________________\n",
      "block4_conv3 (Conv2D)        (None, 28, 28, 512)       2359808   \n",
      "_________________________________________________________________\n",
      "block4_pool (MaxPooling2D)   (None, 14, 14, 512)       0         \n",
      "_________________________________________________________________\n",
      "block5_conv1 (Conv2D)        (None, 14, 14, 512)       2359808   \n",
      "_________________________________________________________________\n",
      "block5_conv2 (Conv2D)        (None, 14, 14, 512)       2359808   \n",
      "_________________________________________________________________\n",
      "block5_conv3 (Conv2D)        (None, 14, 14, 512)       2359808   \n",
      "_________________________________________________________________\n",
      "block5_pool (MaxPooling2D)   (None, 7, 7, 512)         0         \n",
      "_________________________________________________________________\n",
      "flatten (Flatten)            (None, 25088)             0         \n",
      "_________________________________________________________________\n",
      "fc1 (Dense)                  (None, 4096)              102764544 \n",
      "_________________________________________________________________\n",
      "fc2 (Dense)                  (None, 4096)              16781312  \n",
      "_________________________________________________________________\n",
      "predictions (Dense)          (None, 1000)              4097000   \n",
      "=================================================================\n",
      "Total params: 138,357,544\n",
      "Trainable params: 138,357,544\n",
      "Non-trainable params: 0\n",
      "_________________________________________________________________\n"
     ]
    }
   ],
   "source": [
    "model.summary()"
   ]
  },
  {
   "cell_type": "code",
   "execution_count": 5,
   "metadata": {},
   "outputs": [
    {
     "name": "stdout",
     "output_type": "stream",
     "text": [
      "['input_1', 'block1_conv1', 'block1_conv2', 'block1_pool', 'block2_conv1',\n",
      " 'block2_conv2', 'block2_pool', 'block3_conv1', 'block3_conv2', 'block3_conv3',\n",
      " 'block3_pool', 'block4_conv1', 'block4_conv2', 'block4_conv3', 'block4_pool',\n",
      " 'block5_conv1', 'block5_conv2', 'block5_conv3', 'block5_pool', 'flatten',\n",
      " 'fc1', 'fc2', 'predictions']\n"
     ]
    }
   ],
   "source": [
    "names = [l.name for l in model.layers]\n",
    "pprint.pprint(names, compact=True)"
   ]
  },
  {
   "cell_type": "code",
   "execution_count": 6,
   "metadata": {},
   "outputs": [
    {
     "name": "stdout",
     "output_type": "stream",
     "text": [
      "[<tensorflow.python.keras.engine.input_layer.InputLayer object at 0x131c7a650>,\n",
      " <tensorflow.python.keras.layers.convolutional.Conv2D object at 0x104ce6590>,\n",
      " <tensorflow.python.keras.layers.convolutional.Conv2D object at 0x131aba910>,\n",
      " <tensorflow.python.keras.layers.pooling.MaxPooling2D object at 0x131c5cdd0>,\n",
      " <tensorflow.python.keras.layers.convolutional.Conv2D object at 0x12ab00e10>,\n",
      " <tensorflow.python.keras.layers.convolutional.Conv2D object at 0x12aaf44d0>,\n",
      " <tensorflow.python.keras.layers.pooling.MaxPooling2D object at 0x12aaef890>,\n",
      " <tensorflow.python.keras.layers.convolutional.Conv2D object at 0x131ebc290>,\n",
      " <tensorflow.python.keras.layers.convolutional.Conv2D object at 0x131ec0bd0>,\n",
      " <tensorflow.python.keras.layers.convolutional.Conv2D object at 0x131ec6f50>,\n",
      " <tensorflow.python.keras.layers.pooling.MaxPooling2D object at 0x131ec9e90>,\n",
      " <tensorflow.python.keras.layers.convolutional.Conv2D object at 0x131ed8090>,\n",
      " <tensorflow.python.keras.layers.convolutional.Conv2D object at 0x131edbdd0>,\n",
      " <tensorflow.python.keras.layers.convolutional.Conv2D object at 0x132a21dd0>,\n",
      " <tensorflow.python.keras.layers.pooling.MaxPooling2D object at 0x132a26950>,\n",
      " <tensorflow.python.keras.layers.convolutional.Conv2D object at 0x132a2bd10>,\n",
      " <tensorflow.python.keras.layers.convolutional.Conv2D object at 0x132a35f90>,\n",
      " <tensorflow.python.keras.layers.convolutional.Conv2D object at 0x132a3cbd0>,\n",
      " <tensorflow.python.keras.layers.pooling.MaxPooling2D object at 0x132a41f10>,\n",
      " <tensorflow.python.keras.layers.core.Flatten object at 0x132a46ed0>,\n",
      " <tensorflow.python.keras.layers.core.Dense object at 0x132a46f50>,\n",
      " <tensorflow.python.keras.layers.core.Dense object at 0x132a51710>,\n",
      " <tensorflow.python.keras.layers.core.Dense object at 0x132a59110>]\n"
     ]
    }
   ],
   "source": [
    "pprint.pprint(model.layers)"
   ]
  },
  {
   "cell_type": "code",
   "execution_count": 7,
   "metadata": {},
   "outputs": [
    {
     "name": "stdout",
     "output_type": "stream",
     "text": [
      "<class 'list'>\n"
     ]
    }
   ],
   "source": [
    "print(type(model.layers))"
   ]
  },
  {
   "cell_type": "code",
   "execution_count": 8,
   "metadata": {},
   "outputs": [
    {
     "name": "stdout",
     "output_type": "stream",
     "text": [
      "<tensorflow.python.keras.engine.input_layer.InputLayer object at 0x131c7a650>\n"
     ]
    }
   ],
   "source": [
    "print(model.layers[0])"
   ]
  },
  {
   "cell_type": "code",
   "execution_count": 9,
   "metadata": {},
   "outputs": [
    {
     "name": "stdout",
     "output_type": "stream",
     "text": [
      "<class 'tensorflow.python.keras.engine.input_layer.InputLayer'>\n"
     ]
    }
   ],
   "source": [
    "print(type(model.layers[0]))"
   ]
  },
  {
   "cell_type": "code",
   "execution_count": 10,
   "metadata": {},
   "outputs": [
    {
     "name": "stdout",
     "output_type": "stream",
     "text": [
      "input_1\n"
     ]
    }
   ],
   "source": [
    "print(model.layers[0].name)"
   ]
  },
  {
   "cell_type": "code",
   "execution_count": 11,
   "metadata": {},
   "outputs": [
    {
     "name": "stdout",
     "output_type": "stream",
     "text": [
      "['block1_pool', 'block2_pool', 'block3_pool', 'block4_pool', 'block5_pool']\n"
     ]
    }
   ],
   "source": [
    "names_pool = [l.name for l in model.layers if 'pool' in l.name]\n",
    "print(names_pool)"
   ]
  },
  {
   "cell_type": "code",
   "execution_count": 12,
   "metadata": {},
   "outputs": [
    {
     "name": "stdout",
     "output_type": "stream",
     "text": [
      "['fc1', 'fc2', 'predictions']\n"
     ]
    }
   ],
   "source": [
    "names_dense = [l.name for l in model.layers\n",
    "               if isinstance(l, tf.keras.layers.Dense)]\n",
    "print(names_dense)"
   ]
  },
  {
   "cell_type": "code",
   "execution_count": 13,
   "metadata": {},
   "outputs": [
    {
     "name": "stdout",
     "output_type": "stream",
     "text": [
      "['block1_pool', 'block2_pool', 'block3_pool', 'block4_pool', 'block5_pool',\n",
      " 'fc1', 'fc2', 'predictions']\n"
     ]
    }
   ],
   "source": [
    "names_dense_pool = [l.name for l in model.layers\n",
    "                    if isinstance(l, (tf.keras.layers.Dense, tf.keras.layers.MaxPooling2D))]\n",
    "pprint.pprint(names_dense_pool, compact=True)"
   ]
  },
  {
   "cell_type": "code",
   "execution_count": 14,
   "metadata": {},
   "outputs": [
    {
     "name": "stdout",
     "output_type": "stream",
     "text": [
      "['input_1', 'block1_pool', 'block2_pool', 'block3_pool', 'block4_pool',\n",
      " 'block5_pool', 'flatten', 'fc1', 'fc2', 'predictions']\n"
     ]
    }
   ],
   "source": [
    "names_not_conv = [l.name for l in model.layers\n",
    "                  if not isinstance(l, tf.keras.layers.Conv2D)]\n",
    "pprint.pprint(names_not_conv, compact=True)"
   ]
  },
  {
   "cell_type": "code",
   "execution_count": 15,
   "metadata": {},
   "outputs": [
    {
     "name": "stdout",
     "output_type": "stream",
     "text": [
      "input_1\n"
     ]
    }
   ],
   "source": [
    "print(model.layers[0].name)"
   ]
  },
  {
   "cell_type": "code",
   "execution_count": 16,
   "metadata": {},
   "outputs": [
    {
     "name": "stdout",
     "output_type": "stream",
     "text": [
      "block2_conv2\n"
     ]
    }
   ],
   "source": [
    "print(model.layers[5].name)"
   ]
  },
  {
   "cell_type": "code",
   "execution_count": 17,
   "metadata": {},
   "outputs": [
    {
     "name": "stdout",
     "output_type": "stream",
     "text": [
      "block3_pool\n"
     ]
    }
   ],
   "source": [
    "print(model.layers[10].name)"
   ]
  },
  {
   "cell_type": "code",
   "execution_count": 18,
   "metadata": {},
   "outputs": [
    {
     "name": "stdout",
     "output_type": "stream",
     "text": [
      "predictions\n"
     ]
    }
   ],
   "source": [
    "print(model.layers[-1].name)"
   ]
  },
  {
   "cell_type": "code",
   "execution_count": 19,
   "metadata": {},
   "outputs": [
    {
     "name": "stdout",
     "output_type": "stream",
     "text": [
      "fc1\n"
     ]
    }
   ],
   "source": [
    "print(model.layers[-3].name)"
   ]
  },
  {
   "cell_type": "code",
   "execution_count": 20,
   "metadata": {},
   "outputs": [
    {
     "name": "stdout",
     "output_type": "stream",
     "text": [
      "['block2_conv2', 'block2_pool', 'block3_conv1', 'block3_conv2', 'block3_conv3']\n"
     ]
    }
   ],
   "source": [
    "names_slice = [l.name for l in model.layers[5:10]]\n",
    "print(names_slice)"
   ]
  }
 ],
 "metadata": {
  "kernelspec": {
   "display_name": "Python 3",
   "language": "python",
   "name": "python3"
  },
  "language_info": {
   "codemirror_mode": {
    "name": "ipython",
    "version": 3
   },
   "file_extension": ".py",
   "mimetype": "text/x-python",
   "name": "python",
   "nbconvert_exporter": "python",
   "pygments_lexer": "ipython3",
   "version": "3.7.6"
  }
 },
 "nbformat": 4,
 "nbformat_minor": 2
}
