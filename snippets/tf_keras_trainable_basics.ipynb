{
 "cells": [
  {
   "cell_type": "code",
   "execution_count": 1,
   "metadata": {},
   "outputs": [],
   "source": [
    "import tensorflow as tf"
   ]
  },
  {
   "cell_type": "code",
   "execution_count": 2,
   "metadata": {},
   "outputs": [
    {
     "name": "stdout",
     "output_type": "stream",
     "text": [
      "2.1.0\n"
     ]
    }
   ],
   "source": [
    "print(tf.__version__)"
   ]
  },
  {
   "cell_type": "code",
   "execution_count": 3,
   "metadata": {},
   "outputs": [],
   "source": [
    "model = tf.keras.Sequential([\n",
    "    tf.keras.layers.Dense(100, name='Layer_0', input_shape=(1000,)),\n",
    "    tf.keras.layers.Dense(10, name='Layer_1'),\n",
    "    tf.keras.layers.Dense(1, name='Layer_2')\n",
    "], name='Sequential')"
   ]
  },
  {
   "cell_type": "code",
   "execution_count": 4,
   "metadata": {},
   "outputs": [
    {
     "name": "stdout",
     "output_type": "stream",
     "text": [
      "Model: \"Sequential\"\n",
      "_________________________________________________________________\n",
      "Layer (type)                 Output Shape              Param #   \n",
      "=================================================================\n",
      "Layer_0 (Dense)              (None, 100)               100100    \n",
      "_________________________________________________________________\n",
      "Layer_1 (Dense)              (None, 10)                1010      \n",
      "_________________________________________________________________\n",
      "Layer_2 (Dense)              (None, 1)                 11        \n",
      "=================================================================\n",
      "Total params: 101,121\n",
      "Trainable params: 101,121\n",
      "Non-trainable params: 0\n",
      "_________________________________________________________________\n"
     ]
    }
   ],
   "source": [
    "model.summary()"
   ]
  },
  {
   "cell_type": "code",
   "execution_count": 5,
   "metadata": {},
   "outputs": [],
   "source": [
    "model.layers[1].trainable = False"
   ]
  },
  {
   "cell_type": "code",
   "execution_count": 6,
   "metadata": {},
   "outputs": [],
   "source": [
    "model.get_layer('Layer_2').trainable = False"
   ]
  },
  {
   "cell_type": "code",
   "execution_count": 7,
   "metadata": {},
   "outputs": [
    {
     "name": "stdout",
     "output_type": "stream",
     "text": [
      "Layer_0 True\n",
      "Layer_1 False\n",
      "Layer_2 False\n"
     ]
    }
   ],
   "source": [
    "for l in model.layers:\n",
    "    print(l.name, l.trainable)"
   ]
  },
  {
   "cell_type": "code",
   "execution_count": 8,
   "metadata": {},
   "outputs": [
    {
     "name": "stdout",
     "output_type": "stream",
     "text": [
      "Model: \"Sequential\"\n",
      "_________________________________________________________________\n",
      "Layer (type)                 Output Shape              Param #   \n",
      "=================================================================\n",
      "Layer_0 (Dense)              (None, 100)               100100    \n",
      "_________________________________________________________________\n",
      "Layer_1 (Dense)              (None, 10)                1010      \n",
      "_________________________________________________________________\n",
      "Layer_2 (Dense)              (None, 1)                 11        \n",
      "=================================================================\n",
      "Total params: 101,121\n",
      "Trainable params: 100,100\n",
      "Non-trainable params: 1,021\n",
      "_________________________________________________________________\n"
     ]
    }
   ],
   "source": [
    "model.summary()"
   ]
  },
  {
   "cell_type": "code",
   "execution_count": 9,
   "metadata": {},
   "outputs": [],
   "source": [
    "for l in model.layers[1:]:\n",
    "    l.trainable = True"
   ]
  },
  {
   "cell_type": "code",
   "execution_count": 10,
   "metadata": {},
   "outputs": [
    {
     "name": "stdout",
     "output_type": "stream",
     "text": [
      "Layer_0 True\n",
      "Layer_1 True\n",
      "Layer_2 True\n"
     ]
    }
   ],
   "source": [
    "for l in model.layers:\n",
    "    print(l.name, l.trainable)"
   ]
  },
  {
   "cell_type": "code",
   "execution_count": 11,
   "metadata": {},
   "outputs": [
    {
     "name": "stdout",
     "output_type": "stream",
     "text": [
      "Model: \"Sequential\"\n",
      "_________________________________________________________________\n",
      "Layer (type)                 Output Shape              Param #   \n",
      "=================================================================\n",
      "Layer_0 (Dense)              (None, 100)               100100    \n",
      "_________________________________________________________________\n",
      "Layer_1 (Dense)              (None, 10)                1010      \n",
      "_________________________________________________________________\n",
      "Layer_2 (Dense)              (None, 1)                 11        \n",
      "=================================================================\n",
      "Total params: 101,121\n",
      "Trainable params: 101,121\n",
      "Non-trainable params: 0\n",
      "_________________________________________________________________\n"
     ]
    }
   ],
   "source": [
    "model.summary()"
   ]
  },
  {
   "cell_type": "code",
   "execution_count": 12,
   "metadata": {},
   "outputs": [],
   "source": [
    "model_1 = tf.keras.Sequential([\n",
    "    tf.keras.layers.Dense(100, name='Layer_0', input_shape=(1000,)),\n",
    "    tf.keras.layers.Dense(10, name='Layer_1', trainable=False),\n",
    "    tf.keras.layers.Dense(1, name='Layer_2')\n",
    "], name='Sequential_1')"
   ]
  },
  {
   "cell_type": "code",
   "execution_count": 13,
   "metadata": {},
   "outputs": [
    {
     "name": "stdout",
     "output_type": "stream",
     "text": [
      "Model: \"Sequential_1\"\n",
      "_________________________________________________________________\n",
      "Layer (type)                 Output Shape              Param #   \n",
      "=================================================================\n",
      "Layer_0 (Dense)              (None, 100)               100100    \n",
      "_________________________________________________________________\n",
      "Layer_1 (Dense)              (None, 10)                1010      \n",
      "_________________________________________________________________\n",
      "Layer_2 (Dense)              (None, 1)                 11        \n",
      "=================================================================\n",
      "Total params: 101,121\n",
      "Trainable params: 100,111\n",
      "Non-trainable params: 1,010\n",
      "_________________________________________________________________\n"
     ]
    }
   ],
   "source": [
    "model_1.summary()"
   ]
  },
  {
   "cell_type": "code",
   "execution_count": 14,
   "metadata": {},
   "outputs": [
    {
     "name": "stdout",
     "output_type": "stream",
     "text": [
      "True\n"
     ]
    }
   ],
   "source": [
    "print(issubclass(tf.keras.Model, tf.keras.layers.Layer))"
   ]
  },
  {
   "cell_type": "code",
   "execution_count": 15,
   "metadata": {},
   "outputs": [],
   "source": [
    "model.trainable = False"
   ]
  },
  {
   "cell_type": "code",
   "execution_count": 16,
   "metadata": {},
   "outputs": [
    {
     "name": "stdout",
     "output_type": "stream",
     "text": [
      "Layer_0 False\n",
      "Layer_1 False\n",
      "Layer_2 False\n"
     ]
    }
   ],
   "source": [
    "for l in model.layers:\n",
    "    print(l.name, l.trainable)"
   ]
  },
  {
   "cell_type": "code",
   "execution_count": 17,
   "metadata": {},
   "outputs": [
    {
     "name": "stdout",
     "output_type": "stream",
     "text": [
      "Model: \"Sequential\"\n",
      "_________________________________________________________________\n",
      "Layer (type)                 Output Shape              Param #   \n",
      "=================================================================\n",
      "Layer_0 (Dense)              (None, 100)               100100    \n",
      "_________________________________________________________________\n",
      "Layer_1 (Dense)              (None, 10)                1010      \n",
      "_________________________________________________________________\n",
      "Layer_2 (Dense)              (None, 1)                 11        \n",
      "=================================================================\n",
      "Total params: 101,121\n",
      "Trainable params: 0\n",
      "Non-trainable params: 101,121\n",
      "_________________________________________________________________\n"
     ]
    }
   ],
   "source": [
    "model.summary()"
   ]
  },
  {
   "cell_type": "code",
   "execution_count": 18,
   "metadata": {},
   "outputs": [],
   "source": [
    "model.layers[1].trainable = True"
   ]
  },
  {
   "cell_type": "code",
   "execution_count": 19,
   "metadata": {},
   "outputs": [
    {
     "name": "stdout",
     "output_type": "stream",
     "text": [
      "Layer_0 False\n",
      "Layer_1 True\n",
      "Layer_2 False\n"
     ]
    }
   ],
   "source": [
    "for l in model.layers:\n",
    "    print(l.name, l.trainable)"
   ]
  },
  {
   "cell_type": "code",
   "execution_count": 20,
   "metadata": {},
   "outputs": [
    {
     "name": "stdout",
     "output_type": "stream",
     "text": [
      "Model: \"Sequential\"\n",
      "_________________________________________________________________\n",
      "Layer (type)                 Output Shape              Param #   \n",
      "=================================================================\n",
      "Layer_0 (Dense)              (None, 100)               100100    \n",
      "_________________________________________________________________\n",
      "Layer_1 (Dense)              (None, 10)                1010      \n",
      "_________________________________________________________________\n",
      "Layer_2 (Dense)              (None, 1)                 11        \n",
      "=================================================================\n",
      "Total params: 101,121\n",
      "Trainable params: 0\n",
      "Non-trainable params: 101,121\n",
      "_________________________________________________________________\n"
     ]
    }
   ],
   "source": [
    "model.summary()"
   ]
  },
  {
   "cell_type": "code",
   "execution_count": 21,
   "metadata": {},
   "outputs": [],
   "source": [
    "model.trainable = True"
   ]
  },
  {
   "cell_type": "code",
   "execution_count": 22,
   "metadata": {},
   "outputs": [
    {
     "name": "stdout",
     "output_type": "stream",
     "text": [
      "Layer_0 True\n",
      "Layer_1 True\n",
      "Layer_2 True\n"
     ]
    }
   ],
   "source": [
    "for l in model.layers:\n",
    "    print(l.name, l.trainable)"
   ]
  },
  {
   "cell_type": "code",
   "execution_count": 23,
   "metadata": {},
   "outputs": [],
   "source": [
    "for l in model.layers:\n",
    "    l.trainable = False"
   ]
  },
  {
   "cell_type": "code",
   "execution_count": 24,
   "metadata": {},
   "outputs": [],
   "source": [
    "model.layers[1].trainable = True"
   ]
  },
  {
   "cell_type": "code",
   "execution_count": 25,
   "metadata": {},
   "outputs": [
    {
     "name": "stdout",
     "output_type": "stream",
     "text": [
      "Layer_0 False\n",
      "Layer_1 True\n",
      "Layer_2 False\n"
     ]
    }
   ],
   "source": [
    "for l in model.layers:\n",
    "    print(l.name, l.trainable)"
   ]
  },
  {
   "cell_type": "code",
   "execution_count": 26,
   "metadata": {},
   "outputs": [
    {
     "name": "stdout",
     "output_type": "stream",
     "text": [
      "Model: \"Sequential\"\n",
      "_________________________________________________________________\n",
      "Layer (type)                 Output Shape              Param #   \n",
      "=================================================================\n",
      "Layer_0 (Dense)              (None, 100)               100100    \n",
      "_________________________________________________________________\n",
      "Layer_1 (Dense)              (None, 10)                1010      \n",
      "_________________________________________________________________\n",
      "Layer_2 (Dense)              (None, 1)                 11        \n",
      "=================================================================\n",
      "Total params: 101,121\n",
      "Trainable params: 1,010\n",
      "Non-trainable params: 100,111\n",
      "_________________________________________________________________\n"
     ]
    }
   ],
   "source": [
    "model.summary()"
   ]
  }
 ],
 "metadata": {
  "kernelspec": {
   "display_name": "Python 3",
   "language": "python",
   "name": "python3"
  },
  "language_info": {
   "codemirror_mode": {
    "name": "ipython",
    "version": 3
   },
   "file_extension": ".py",
   "mimetype": "text/x-python",
   "name": "python",
   "nbconvert_exporter": "python",
   "pygments_lexer": "ipython3",
   "version": "3.7.7"
  }
 },
 "nbformat": 4,
 "nbformat_minor": 2
}
